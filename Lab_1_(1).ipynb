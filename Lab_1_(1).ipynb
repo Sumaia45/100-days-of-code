{
  "nbformat": 4,
  "nbformat_minor": 0,
  "metadata": {
    "colab": {
      "name": "Lab_1 (1).ipynb",
      "provenance": [],
      "collapsed_sections": [],
      "include_colab_link": true
    },
    "kernelspec": {
      "name": "python3",
      "display_name": "Python 3"
    },
    "language_info": {
      "name": "python"
    }
  },
  "cells": [
    {
      "cell_type": "markdown",
      "metadata": {
        "id": "view-in-github",
        "colab_type": "text"
      },
      "source": [
        "<a href=\"https://colab.research.google.com/github/Sumaia45/100-days-of-code/blob/master/Lab_1_(1).ipynb\" target=\"_parent\"><img src=\"https://colab.research.google.com/assets/colab-badge.svg\" alt=\"Open In Colab\"/></a>"
      ]
    },
    {
      "cell_type": "markdown",
      "metadata": {
        "id": "YmucwbUwIfLA"
      },
      "source": [
        "# Python basics"
      ]
    },
    {
      "cell_type": "code",
      "source": [
        "x = 4"
      ],
      "metadata": {
        "id": "WsxGVRWAKtGp"
      },
      "execution_count": 5,
      "outputs": []
    },
    {
      "cell_type": "code",
      "source": [
        "y = 1 "
      ],
      "metadata": {
        "id": "sflJ4RnTKsm0"
      },
      "execution_count": 6,
      "outputs": []
    },
    {
      "cell_type": "code",
      "source": [
        "x + y "
      ],
      "metadata": {
        "colab": {
          "base_uri": "https://localhost:8080/"
        },
        "id": "hUVzRK8VK3zR",
        "outputId": "6493d48a-d6dc-48a7-d3e3-dc3c396b9c77"
      },
      "execution_count": 7,
      "outputs": [
        {
          "output_type": "execute_result",
          "data": {
            "text/plain": [
              "5"
            ]
          },
          "metadata": {},
          "execution_count": 7
        }
      ]
    },
    {
      "cell_type": "markdown",
      "metadata": {
        "id": "ZDl7pPTJJmZx"
      },
      "source": [
        "\n",
        "\n",
        "Here are a few operators which are commonly used for computation in Python\n",
        "\n",
        "| Operator | Usage           | Example | Answer |\n",
        "|----------|------------------|---------|--------|\n",
        "| +        | addition         | 1 + 2   | 3      |\n",
        "| -        | subtraction      | 9 - 3   | 6      |\n",
        "| /        | division         | 7/2     | 3.5    |\n",
        "| //       | integer division | 7/2     | 3      |\n",
        "| %        | modulus          | 7%3     | 1      |\n",
        "| **       | exponentiation   | 3**2    | 9      |\n",
        "\n",
        "\n",
        "\n",
        "Common data types in Python \n",
        "\n",
        "| Type    | Example     | \n",
        "|---------|-------------|\n",
        "| integer | 5           |\n",
        "| float   | 5.0         | \n",
        "| strings | '5'         | \n",
        "| boolean | True/False  |\n"
      ]
    },
    {
      "cell_type": "code",
      "metadata": {
        "colab": {
          "base_uri": "https://localhost:8080/"
        },
        "id": "AV2gjfICROHp",
        "outputId": "db0c1559-ee33-468e-d307-e976e8f9105c"
      },
      "source": [
        "# Multiply an integer with a float\n",
        "100.1 * 6"
      ],
      "execution_count": 8,
      "outputs": [
        {
          "output_type": "execute_result",
          "data": {
            "text/plain": [
              "600.5999999999999"
            ]
          },
          "metadata": {},
          "execution_count": 8
        }
      ]
    },
    {
      "cell_type": "code",
      "metadata": {
        "colab": {
          "base_uri": "https://localhost:8080/"
        },
        "id": "36nGhXcORU88",
        "outputId": "5207e6b1-49db-4255-80f8-7d6147cfc8f3"
      },
      "source": [
        "# assign a variable & then do some calculaton\n",
        "scaler = 5\n",
        "result = 0.999 * scaler / 10\n",
        "result "
      ],
      "execution_count": 9,
      "outputs": [
        {
          "output_type": "execute_result",
          "data": {
            "text/plain": [
              "0.4995"
            ]
          },
          "metadata": {},
          "execution_count": 9
        }
      ]
    },
    {
      "cell_type": "code",
      "metadata": {
        "id": "ASKIW9rJRXYL"
      },
      "source": [
        "# multiple variable assignments\n",
        "x,y = 10,-10"
      ],
      "execution_count": 10,
      "outputs": []
    },
    {
      "cell_type": "code",
      "metadata": {
        "colab": {
          "base_uri": "https://localhost:8080/"
        },
        "id": "BI6eVaCzRarF",
        "outputId": "93b5a181-7921-4281-c57d-3b702060ebf6"
      },
      "source": [
        "x **2 - y**2"
      ],
      "execution_count": 11,
      "outputs": [
        {
          "output_type": "execute_result",
          "data": {
            "text/plain": [
              "0"
            ]
          },
          "metadata": {},
          "execution_count": 11
        }
      ]
    },
    {
      "cell_type": "code",
      "metadata": {
        "colab": {
          "base_uri": "https://localhost:8080/"
        },
        "id": "tcr7usaNRbM4",
        "outputId": "b2ef4c2d-e82d-45d7-8820-f45c3d6a9e3f"
      },
      "source": [
        "# compare values to get a boolean result\n",
        "1 == 2  "
      ],
      "execution_count": 12,
      "outputs": [
        {
          "output_type": "execute_result",
          "data": {
            "text/plain": [
              "False"
            ]
          },
          "metadata": {},
          "execution_count": 12
        }
      ]
    },
    {
      "cell_type": "code",
      "metadata": {
        "colab": {
          "base_uri": "https://localhost:8080/"
        },
        "id": "4WW2ed9Z372E",
        "outputId": "06d1221a-ada7-41b9-c16c-db4275fc01e5"
      },
      "source": [
        "check = 'NYC' == 'SF'\n",
        "print('Is NYC same as SF? ', check)"
      ],
      "execution_count": 13,
      "outputs": [
        {
          "output_type": "stream",
          "name": "stdout",
          "text": [
            "Is NYC same as SF?  False\n"
          ]
        }
      ]
    },
    {
      "cell_type": "code",
      "metadata": {
        "colab": {
          "base_uri": "https://localhost:8080/"
        },
        "id": "yEoa8iQsRddZ",
        "outputId": "edaf76ed-ae80-4c74-a87b-9443170b39fc"
      },
      "source": [
        "# check if a value is in a python list\n",
        "lis = [1, 3, 5, 7, 9]\n",
        "\n",
        "target = 10\n",
        "\n",
        "for i in lis: \n",
        "  print(i == target)"
      ],
      "execution_count": 14,
      "outputs": [
        {
          "output_type": "stream",
          "name": "stdout",
          "text": [
            "False\n",
            "False\n",
            "False\n",
            "False\n",
            "False\n"
          ]
        }
      ]
    },
    {
      "cell_type": "code",
      "metadata": {
        "colab": {
          "base_uri": "https://localhost:8080/"
        },
        "id": "TSnPKVHq5MRe",
        "outputId": "8866d90e-2746-412b-904e-7b64e92aecf6"
      },
      "source": [
        "# data value may look the same, but data type is differnet \n",
        "\n",
        "100 == '100'"
      ],
      "execution_count": 15,
      "outputs": [
        {
          "output_type": "execute_result",
          "data": {
            "text/plain": [
              "False"
            ]
          },
          "metadata": {},
          "execution_count": 15
        }
      ]
    },
    {
      "cell_type": "code",
      "metadata": {
        "colab": {
          "base_uri": "https://localhost:8080/"
        },
        "id": "KQyrqmHF5h5d",
        "outputId": "d4ee757c-cca7-4b94-8026-ca6e6a9ed3cd"
      },
      "source": [
        "# but integer and float of the same value are equal\n",
        "\n",
        "100 == 100.0"
      ],
      "execution_count": 16,
      "outputs": [
        {
          "output_type": "execute_result",
          "data": {
            "text/plain": [
              "True"
            ]
          },
          "metadata": {},
          "execution_count": 16
        }
      ]
    },
    {
      "cell_type": "code",
      "metadata": {
        "colab": {
          "base_uri": "https://localhost:8080/"
        },
        "id": "ypyvwcbn5aEc",
        "outputId": "4c330455-208f-4753-a494-f79905c4527d"
      },
      "source": [
        "type(100)\n"
      ],
      "execution_count": 17,
      "outputs": [
        {
          "output_type": "execute_result",
          "data": {
            "text/plain": [
              "int"
            ]
          },
          "metadata": {},
          "execution_count": 17
        }
      ]
    },
    {
      "cell_type": "code",
      "metadata": {
        "colab": {
          "base_uri": "https://localhost:8080/"
        },
        "id": "IjX-cjpA5fD7",
        "outputId": "1eb6a103-0ca7-4abc-c106-8bcb2904b6eb"
      },
      "source": [
        "type('100')"
      ],
      "execution_count": 18,
      "outputs": [
        {
          "output_type": "execute_result",
          "data": {
            "text/plain": [
              "str"
            ]
          },
          "metadata": {},
          "execution_count": 18
        }
      ]
    },
    {
      "cell_type": "code",
      "metadata": {
        "colab": {
          "base_uri": "https://localhost:8080/"
        },
        "id": "q8ZHjBOe5sfq",
        "outputId": "40a79ec3-0496-49a1-ec78-c58b77bf8e4e"
      },
      "source": [
        "type(100.0)"
      ],
      "execution_count": 19,
      "outputs": [
        {
          "output_type": "execute_result",
          "data": {
            "text/plain": [
              "float"
            ]
          },
          "metadata": {},
          "execution_count": 19
        }
      ]
    },
    {
      "cell_type": "code",
      "metadata": {
        "colab": {
          "base_uri": "https://localhost:8080/"
        },
        "id": "CSFyryb86h_4",
        "outputId": "281ea95a-bf60-4366-bda6-3ca7765e961f"
      },
      "source": [
        "# change data type\n",
        "\n",
        "float('100.0') == 100.0"
      ],
      "execution_count": 20,
      "outputs": [
        {
          "output_type": "execute_result",
          "data": {
            "text/plain": [
              "True"
            ]
          },
          "metadata": {},
          "execution_count": 20
        }
      ]
    },
    {
      "cell_type": "code",
      "metadata": {
        "colab": {
          "base_uri": "https://localhost:8080/"
        },
        "id": "B8ygXdFKRh90",
        "outputId": "6464f876-09de-4d7d-cad7-2014717c0f47"
      },
      "source": [
        "# use '= ' to assign value; use '==' to compare values\n",
        "\n",
        "var2 = 'I love NYC'\n",
        "print(var2)\n",
        "\n",
        "'I love NYC' == 'I love SF'"
      ],
      "execution_count": 21,
      "outputs": [
        {
          "output_type": "stream",
          "name": "stdout",
          "text": [
            "I love NYC\n"
          ]
        },
        {
          "output_type": "execute_result",
          "data": {
            "text/plain": [
              "False"
            ]
          },
          "metadata": {},
          "execution_count": 21
        }
      ]
    },
    {
      "cell_type": "code",
      "metadata": {
        "colab": {
          "base_uri": "https://localhost:8080/"
        },
        "id": "D-3qvRDmCkpM",
        "outputId": "b37a2d75-b4cd-40e0-e1ee-b47fb42f16d7"
      },
      "source": [
        "# be careful if you want to put different types of data together\n",
        "\n",
        "print('I have '  + ' books on my desk')\n",
        "\n"
      ],
      "execution_count": 23,
      "outputs": [
        {
          "output_type": "stream",
          "name": "stdout",
          "text": [
            "I have  books on my desk\n"
          ]
        }
      ]
    },
    {
      "cell_type": "code",
      "metadata": {
        "colab": {
          "base_uri": "https://localhost:8080/"
        },
        "id": "eKJ7K8pYDh45",
        "outputId": "e502f956-5e29-4752-80a6-f65fdef58d45"
      },
      "source": [
        "# you can change the data type by casting \n",
        "\n",
        "print('I have ' + str(3) + ' books on my desk')"
      ],
      "execution_count": 24,
      "outputs": [
        {
          "output_type": "stream",
          "name": "stdout",
          "text": [
            "I have 3 books on my desk\n"
          ]
        }
      ]
    },
    {
      "cell_type": "code",
      "metadata": {
        "colab": {
          "base_uri": "https://localhost:8080/"
        },
        "id": "M3KkCqMSmEjA",
        "outputId": "5c18dd98-eb34-4295-bdff-2c6f5c540f1f"
      },
      "source": [
        "# python variable is case sensitive\n",
        "\n",
        "fruit1= 'apple'\n",
        "print(fruit1) # won't print"
      ],
      "execution_count": 32,
      "outputs": [
        {
          "output_type": "stream",
          "name": "stdout",
          "text": [
            "apple\n"
          ]
        }
      ]
    },
    {
      "cell_type": "code",
      "metadata": {
        "colab": {
          "base_uri": "https://localhost:8080/"
        },
        "id": "qCEp0uZwmiMV",
        "outputId": "fc34ca35-3314-42b6-b150-3fbfcebcdcc4"
      },
      "source": [
        "# single & double quotes\n",
        "\n",
        "school_1 = 'LAGCC'\n",
        "school_2 = \"CUNY\"\n",
        "\n",
        "print(school_1)\n",
        "print(school_2)"
      ],
      "execution_count": 33,
      "outputs": [
        {
          "output_type": "stream",
          "name": "stdout",
          "text": [
            "LAGCC\n",
            "CUNY\n"
          ]
        }
      ]
    },
    {
      "cell_type": "code",
      "metadata": {
        "colab": {
          "base_uri": "https://localhost:8080/"
        },
        "id": "4ba_z6KanECV",
        "outputId": "eafe2d1c-970a-46c6-f92c-1b4a6a2f434c"
      },
      "source": [
        "# single & double quotes are interchangeble, with the exception of apostrophe  \n",
        "\n",
        "print('If you use single quotes in a string with an apostrophe, it wont print')"
      ],
      "execution_count": 35,
      "outputs": [
        {
          "output_type": "stream",
          "name": "stdout",
          "text": [
            "If you use single quotes in a string with an apostrophe, it wont print\n"
          ]
        }
      ]
    },
    {
      "cell_type": "code",
      "metadata": {
        "colab": {
          "base_uri": "https://localhost:8080/"
        },
        "id": "wTgzl8p6n6xU",
        "outputId": "83d550d8-02eb-48d5-faf6-f29837762879"
      },
      "source": [
        "# but you can fix it by using double quotes as the wrapper\n",
        "\n",
        "print(\"If you use double quotes in a string with an apostrophe, it won't give you a problem\")\n",
        "\n"
      ],
      "execution_count": 36,
      "outputs": [
        {
          "output_type": "stream",
          "name": "stdout",
          "text": [
            "If you use double quotes in a string with an apostrophe, it won't give you a problem\n"
          ]
        }
      ]
    },
    {
      "cell_type": "markdown",
      "metadata": {
        "id": "HSW2J-Wf61WZ"
      },
      "source": [
        "#### Try it on your own"
      ]
    },
    {
      "cell_type": "code",
      "metadata": {
        "id": "iFECTdS-60ze"
      },
      "source": [
        "# Q. calculate the area for a circle with a radius of 5.5 \n",
        "\n"
      ],
      "execution_count": 37,
      "outputs": []
    },
    {
      "cell_type": "code",
      "metadata": {
        "id": "-23vzBGxRjx_"
      },
      "source": [
        "# Q. there are 12 slices of pizza and 5 people in the room, if each takes 2 slices then how many slices will be left?"
      ],
      "execution_count": 38,
      "outputs": []
    },
    {
      "cell_type": "code",
      "metadata": {
        "colab": {
          "base_uri": "https://localhost:8080/"
        },
        "id": "2O4GoCfrDufS",
        "outputId": "57734ec4-b33c-43f7-92da-4e5ed701cfc5"
      },
      "source": [
        "# here is restaunt bill breakdown\n",
        "\n",
        "charge = 120.0 # cost for our food\n",
        "tip_percentage = 0.2 # 20%\n",
        "sentence = 'for dinner, we have spent a total of $' \n",
        "\n",
        "# Q. please calculate the total cost for the dinner bill and print out the complete sentence\n",
        "\n",
        "print()\n"
      ],
      "execution_count": 39,
      "outputs": [
        {
          "output_type": "stream",
          "name": "stdout",
          "text": [
            "\n"
          ]
        }
      ]
    },
    {
      "cell_type": "markdown",
      "metadata": {
        "id": "nHZ3thyZp-GK"
      },
      "source": [
        "Here are some Python comparison operators\n",
        "\n",
        "| Operator | Usage            | \n",
        "|----------|------------------|\n",
        "| ==        | equal           | \n",
        "| !=        | not equal       | \n",
        "| >        | greater than     |\n",
        "| <       | less than | 7/2   |\n",
        "| >=        | greater than or equal than|\n",
        "| <=       | less than or equal to |"
      ]
    },
    {
      "cell_type": "code",
      "metadata": {
        "colab": {
          "base_uri": "https://localhost:8080/"
        },
        "id": "UEpmnihKqvUl",
        "outputId": "e5ccfae2-79a2-4d7b-d454-f0e6e67cb149"
      },
      "source": [
        "print(1==1)\n",
        "print('apples' != 'oranges')\n",
        "print(100.1 >= 100.0)\n",
        "print(1 < 2)\n",
        "print (3.14 ** 2 >= 3.14 ** 2) \n",
        "print(0.001 <= 0.1)"
      ],
      "execution_count": 40,
      "outputs": [
        {
          "output_type": "stream",
          "name": "stdout",
          "text": [
            "True\n",
            "True\n",
            "True\n",
            "True\n",
            "True\n",
            "True\n"
          ]
        }
      ]
    },
    {
      "cell_type": "code",
      "metadata": {
        "colab": {
          "base_uri": "https://localhost:8080/"
        },
        "id": "8mt5znGYk5jE",
        "outputId": "437b6ac5-0643-4a6c-e374-b6c99e66bf9d"
      },
      "source": [
        "# use comment with a '#' to annotate your code or prevent a line of code from executing\n",
        "\n",
        "print('this will run')\n",
        "\n",
        "#print('this will not run')"
      ],
      "execution_count": 41,
      "outputs": [
        {
          "output_type": "stream",
          "name": "stdout",
          "text": [
            "this will run\n"
          ]
        }
      ]
    },
    {
      "cell_type": "code",
      "metadata": {
        "colab": {
          "base_uri": "https://localhost:8080/"
        },
        "id": "Gj3Ny9imsBC4",
        "outputId": "4954c8fa-4027-4571-a477-ab7aee2c7e71"
      },
      "source": [
        "# this is a python list: a collection which is ordered and changeable and allows duplicates\n",
        "\n",
        "mylist = [\"apple\", \"banana\", \"cherry\"]\n",
        "mylist"
      ],
      "execution_count": 42,
      "outputs": [
        {
          "output_type": "execute_result",
          "data": {
            "text/plain": [
              "['apple', 'banana', 'cherry']"
            ]
          },
          "metadata": {},
          "execution_count": 42
        }
      ]
    },
    {
      "cell_type": "code",
      "metadata": {
        "colab": {
          "base_uri": "https://localhost:8080/"
        },
        "id": "TR7CNG6tslmQ",
        "outputId": "2bdb52c6-3cd0-408b-b2d2-8dadebbf96a3"
      },
      "source": [
        "# add something to the list\n",
        "mylist.append('orange')\n",
        "mylist\n"
      ],
      "execution_count": 43,
      "outputs": [
        {
          "output_type": "execute_result",
          "data": {
            "text/plain": [
              "['apple', 'banana', 'cherry', 'orange']"
            ]
          },
          "metadata": {},
          "execution_count": 43
        }
      ]
    },
    {
      "cell_type": "code",
      "metadata": {
        "colab": {
          "base_uri": "https://localhost:8080/"
        },
        "id": "_IJGR8Xms13P",
        "outputId": "36cc25f9-b845-4bd6-8870-b6a436584e56"
      },
      "source": [
        "# remove someting from a list\n",
        "\n",
        "mylist.remove('apple')\n",
        "mylist"
      ],
      "execution_count": 44,
      "outputs": [
        {
          "output_type": "execute_result",
          "data": {
            "text/plain": [
              "['banana', 'cherry', 'orange']"
            ]
          },
          "metadata": {},
          "execution_count": 44
        }
      ]
    },
    {
      "cell_type": "code",
      "metadata": {
        "colab": {
          "base_uri": "https://localhost:8080/"
        },
        "id": "ff7V2pYltUOK",
        "outputId": "630861a7-678f-43d7-93c2-9490b62c769b"
      },
      "source": [
        "# use for loop with a python list\n",
        "\n",
        "for fruit in mylist:\n",
        "  print(fruit)"
      ],
      "execution_count": 45,
      "outputs": [
        {
          "output_type": "stream",
          "name": "stdout",
          "text": [
            "banana\n",
            "cherry\n",
            "orange\n"
          ]
        }
      ]
    },
    {
      "cell_type": "code",
      "metadata": {
        "colab": {
          "base_uri": "https://localhost:8080/"
        },
        "id": "zM9ThMMgteG9",
        "outputId": "a83283ff-7c96-406c-c362-8a7d97b1a62d"
      },
      "source": [
        "# add if-else with loops and list\n",
        "\n",
        "mylist = [\"apple\", \"banana\", \"cherry\"]*2\n",
        "\n",
        "\n",
        "# let's use a for loop to find how many cherry are there in our list\n",
        "\n",
        "for fruit in mylist:\n",
        "  if fruit == 'cherry':\n",
        "    print('bingo!')\n",
        "  else:\n",
        "    print('not cherry')"
      ],
      "execution_count": 46,
      "outputs": [
        {
          "output_type": "stream",
          "name": "stdout",
          "text": [
            "not cherry\n",
            "not cherry\n",
            "bingo!\n",
            "not cherry\n",
            "not cherry\n",
            "bingo!\n"
          ]
        }
      ]
    },
    {
      "cell_type": "code",
      "metadata": {
        "colab": {
          "base_uri": "https://localhost:8080/"
        },
        "id": "lqqrLBSh0SHg",
        "outputId": "988574f6-ea7b-46ee-f196-d5b22c11b29f"
      },
      "source": [
        "# for loop is useful when you want to select and compute a long list of numbers\n",
        "\n",
        "# add all even number in a long number list\n",
        "\n",
        "total = 0 \n",
        "for num in range(1000001):\n",
        "  if num % 2 == 0:\n",
        "    total = total + num\n",
        "\n",
        "total "
      ],
      "execution_count": 47,
      "outputs": [
        {
          "output_type": "execute_result",
          "data": {
            "text/plain": [
              "250000500000"
            ]
          },
          "metadata": {},
          "execution_count": 47
        }
      ]
    },
    {
      "cell_type": "code",
      "metadata": {
        "colab": {
          "base_uri": "https://localhost:8080/"
        },
        "id": "m3ZYos82o8K1",
        "outputId": "99d07ab5-a51e-49c9-fb57-ef9637acfe52"
      },
      "source": [
        "# use a while loop to execute a set of statements as long as a condition is true\n",
        "\n",
        "# add numbers up as long as the running numbers are less than 100 but bigger than 0\n",
        "\n",
        "current_num = 0\n",
        "total = 0\n",
        "\n",
        "while current_num <= 100:\n",
        "  total = total + current_num\n",
        "  current_num = current_num + 1\n",
        "\n",
        "total\n",
        "\n",
        "\n"
      ],
      "execution_count": 48,
      "outputs": [
        {
          "output_type": "execute_result",
          "data": {
            "text/plain": [
              "5050"
            ]
          },
          "metadata": {},
          "execution_count": 48
        }
      ]
    },
    {
      "cell_type": "code",
      "metadata": {
        "colab": {
          "base_uri": "https://localhost:8080/"
        },
        "id": "lHQq0HEk1XxV",
        "outputId": "d04617ab-e778-4ad4-d5f9-e0ad5492563f"
      },
      "source": [
        "# a basic function without an argument\n",
        "\n",
        "def function1(): # no any argument in the parenthesis\n",
        "  print('I love data')\n",
        "\n",
        "function1() # call the function to execute\n",
        "\n",
        "\n"
      ],
      "execution_count": 49,
      "outputs": [
        {
          "output_type": "stream",
          "name": "stdout",
          "text": [
            "I love data\n"
          ]
        }
      ]
    },
    {
      "cell_type": "code",
      "metadata": {
        "colab": {
          "base_uri": "https://localhost:8080/"
        },
        "id": "mDzle9_fnu5J",
        "outputId": "9f7a5036-6867-4459-be3b-7e758455cc1c"
      },
      "source": [
        "# a function with an argument\n",
        "\n",
        "def function2(value): # one argument called value\n",
        "  print('I love', str(value))\n",
        "\n",
        "function2('NYC') # call the function to execute\n",
        "\n"
      ],
      "execution_count": 50,
      "outputs": [
        {
          "output_type": "stream",
          "name": "stdout",
          "text": [
            "I love NYC\n"
          ]
        }
      ]
    },
    {
      "cell_type": "code",
      "metadata": {
        "colab": {
          "base_uri": "https://localhost:8080/"
        },
        "id": "jx24bbIEoGiH",
        "outputId": "0aab41bd-89a0-4693-85ed-2fae82e0b965"
      },
      "source": [
        "# a function with multiple value \n",
        "\n",
        "def function3(num, n_power): # on eargument called value\n",
        "  result = num ** n_power\n",
        "  return result             # use 'return' to yield the outcome after running the process\n",
        "\n",
        "\n",
        "# call the function\n",
        "\n",
        "function3(10, 3)\n",
        "\n"
      ],
      "execution_count": 51,
      "outputs": [
        {
          "output_type": "execute_result",
          "data": {
            "text/plain": [
              "1000"
            ]
          },
          "metadata": {},
          "execution_count": 51
        }
      ]
    },
    {
      "cell_type": "markdown",
      "metadata": {
        "id": "N0Mdpy-fp0Mu"
      },
      "source": [
        "#### Try it on your own"
      ]
    },
    {
      "cell_type": "code",
      "metadata": {
        "colab": {
          "base_uri": "https://localhost:8080/"
        },
        "id": "b1QMdxNBlrmJ",
        "outputId": "929b83f7-277a-48e7-e1df-f0e7bd1c91b9"
      },
      "source": [
        "# Q. please write a function that can change change celsius to fahrenheit\n",
        "\n",
        "celsius = float(input(\"Enter temperature in celsius: \"))\n",
        "fahrenheit = (celsius * 9/5) + 32\n",
        "print('%.2f Celsius is: %0.2f Fahrenheit' %(celsius, fahrenheit))\n",
        "  "
      ],
      "execution_count": 57,
      "outputs": [
        {
          "output_type": "stream",
          "name": "stdout",
          "text": [
            "Enter temperature in celsius: 3\n",
            "3.00 Celsius is: 37.40 Fahrenheit\n"
          ]
        }
      ]
    },
    {
      "cell_type": "code",
      "metadata": {
        "id": "OTvJf-8UpoLL"
      },
      "source": [
        "# Q. create a python list and store all the odd numbers from 1 to 1000 in it"
      ],
      "execution_count": 55,
      "outputs": []
    },
    {
      "cell_type": "code",
      "source": [
        "maximum = int(input(\" Please Enter any Maximum Value : \"))\n",
        "\n",
        "for number in range(1, maximum + 1):\n",
        "    if(number % 2 != 0):\n",
        "        print(\"{0}\".format(number))"
      ],
      "metadata": {
        "colab": {
          "base_uri": "https://localhost:8080/"
        },
        "id": "xVh_6Fsfb-gZ",
        "outputId": "532cde9f-df75-45fd-8df5-a89f2f749549"
      },
      "execution_count": 58,
      "outputs": [
        {
          "output_type": "stream",
          "name": "stdout",
          "text": [
            " Please Enter any Maximum Value : 1000\n",
            "1\n",
            "3\n",
            "5\n",
            "7\n",
            "9\n",
            "11\n",
            "13\n",
            "15\n",
            "17\n",
            "19\n",
            "21\n",
            "23\n",
            "25\n",
            "27\n",
            "29\n",
            "31\n",
            "33\n",
            "35\n",
            "37\n",
            "39\n",
            "41\n",
            "43\n",
            "45\n",
            "47\n",
            "49\n",
            "51\n",
            "53\n",
            "55\n",
            "57\n",
            "59\n",
            "61\n",
            "63\n",
            "65\n",
            "67\n",
            "69\n",
            "71\n",
            "73\n",
            "75\n",
            "77\n",
            "79\n",
            "81\n",
            "83\n",
            "85\n",
            "87\n",
            "89\n",
            "91\n",
            "93\n",
            "95\n",
            "97\n",
            "99\n",
            "101\n",
            "103\n",
            "105\n",
            "107\n",
            "109\n",
            "111\n",
            "113\n",
            "115\n",
            "117\n",
            "119\n",
            "121\n",
            "123\n",
            "125\n",
            "127\n",
            "129\n",
            "131\n",
            "133\n",
            "135\n",
            "137\n",
            "139\n",
            "141\n",
            "143\n",
            "145\n",
            "147\n",
            "149\n",
            "151\n",
            "153\n",
            "155\n",
            "157\n",
            "159\n",
            "161\n",
            "163\n",
            "165\n",
            "167\n",
            "169\n",
            "171\n",
            "173\n",
            "175\n",
            "177\n",
            "179\n",
            "181\n",
            "183\n",
            "185\n",
            "187\n",
            "189\n",
            "191\n",
            "193\n",
            "195\n",
            "197\n",
            "199\n",
            "201\n",
            "203\n",
            "205\n",
            "207\n",
            "209\n",
            "211\n",
            "213\n",
            "215\n",
            "217\n",
            "219\n",
            "221\n",
            "223\n",
            "225\n",
            "227\n",
            "229\n",
            "231\n",
            "233\n",
            "235\n",
            "237\n",
            "239\n",
            "241\n",
            "243\n",
            "245\n",
            "247\n",
            "249\n",
            "251\n",
            "253\n",
            "255\n",
            "257\n",
            "259\n",
            "261\n",
            "263\n",
            "265\n",
            "267\n",
            "269\n",
            "271\n",
            "273\n",
            "275\n",
            "277\n",
            "279\n",
            "281\n",
            "283\n",
            "285\n",
            "287\n",
            "289\n",
            "291\n",
            "293\n",
            "295\n",
            "297\n",
            "299\n",
            "301\n",
            "303\n",
            "305\n",
            "307\n",
            "309\n",
            "311\n",
            "313\n",
            "315\n",
            "317\n",
            "319\n",
            "321\n",
            "323\n",
            "325\n",
            "327\n",
            "329\n",
            "331\n",
            "333\n",
            "335\n",
            "337\n",
            "339\n",
            "341\n",
            "343\n",
            "345\n",
            "347\n",
            "349\n",
            "351\n",
            "353\n",
            "355\n",
            "357\n",
            "359\n",
            "361\n",
            "363\n",
            "365\n",
            "367\n",
            "369\n",
            "371\n",
            "373\n",
            "375\n",
            "377\n",
            "379\n",
            "381\n",
            "383\n",
            "385\n",
            "387\n",
            "389\n",
            "391\n",
            "393\n",
            "395\n",
            "397\n",
            "399\n",
            "401\n",
            "403\n",
            "405\n",
            "407\n",
            "409\n",
            "411\n",
            "413\n",
            "415\n",
            "417\n",
            "419\n",
            "421\n",
            "423\n",
            "425\n",
            "427\n",
            "429\n",
            "431\n",
            "433\n",
            "435\n",
            "437\n",
            "439\n",
            "441\n",
            "443\n",
            "445\n",
            "447\n",
            "449\n",
            "451\n",
            "453\n",
            "455\n",
            "457\n",
            "459\n",
            "461\n",
            "463\n",
            "465\n",
            "467\n",
            "469\n",
            "471\n",
            "473\n",
            "475\n",
            "477\n",
            "479\n",
            "481\n",
            "483\n",
            "485\n",
            "487\n",
            "489\n",
            "491\n",
            "493\n",
            "495\n",
            "497\n",
            "499\n",
            "501\n",
            "503\n",
            "505\n",
            "507\n",
            "509\n",
            "511\n",
            "513\n",
            "515\n",
            "517\n",
            "519\n",
            "521\n",
            "523\n",
            "525\n",
            "527\n",
            "529\n",
            "531\n",
            "533\n",
            "535\n",
            "537\n",
            "539\n",
            "541\n",
            "543\n",
            "545\n",
            "547\n",
            "549\n",
            "551\n",
            "553\n",
            "555\n",
            "557\n",
            "559\n",
            "561\n",
            "563\n",
            "565\n",
            "567\n",
            "569\n",
            "571\n",
            "573\n",
            "575\n",
            "577\n",
            "579\n",
            "581\n",
            "583\n",
            "585\n",
            "587\n",
            "589\n",
            "591\n",
            "593\n",
            "595\n",
            "597\n",
            "599\n",
            "601\n",
            "603\n",
            "605\n",
            "607\n",
            "609\n",
            "611\n",
            "613\n",
            "615\n",
            "617\n",
            "619\n",
            "621\n",
            "623\n",
            "625\n",
            "627\n",
            "629\n",
            "631\n",
            "633\n",
            "635\n",
            "637\n",
            "639\n",
            "641\n",
            "643\n",
            "645\n",
            "647\n",
            "649\n",
            "651\n",
            "653\n",
            "655\n",
            "657\n",
            "659\n",
            "661\n",
            "663\n",
            "665\n",
            "667\n",
            "669\n",
            "671\n",
            "673\n",
            "675\n",
            "677\n",
            "679\n",
            "681\n",
            "683\n",
            "685\n",
            "687\n",
            "689\n",
            "691\n",
            "693\n",
            "695\n",
            "697\n",
            "699\n",
            "701\n",
            "703\n",
            "705\n",
            "707\n",
            "709\n",
            "711\n",
            "713\n",
            "715\n",
            "717\n",
            "719\n",
            "721\n",
            "723\n",
            "725\n",
            "727\n",
            "729\n",
            "731\n",
            "733\n",
            "735\n",
            "737\n",
            "739\n",
            "741\n",
            "743\n",
            "745\n",
            "747\n",
            "749\n",
            "751\n",
            "753\n",
            "755\n",
            "757\n",
            "759\n",
            "761\n",
            "763\n",
            "765\n",
            "767\n",
            "769\n",
            "771\n",
            "773\n",
            "775\n",
            "777\n",
            "779\n",
            "781\n",
            "783\n",
            "785\n",
            "787\n",
            "789\n",
            "791\n",
            "793\n",
            "795\n",
            "797\n",
            "799\n",
            "801\n",
            "803\n",
            "805\n",
            "807\n",
            "809\n",
            "811\n",
            "813\n",
            "815\n",
            "817\n",
            "819\n",
            "821\n",
            "823\n",
            "825\n",
            "827\n",
            "829\n",
            "831\n",
            "833\n",
            "835\n",
            "837\n",
            "839\n",
            "841\n",
            "843\n",
            "845\n",
            "847\n",
            "849\n",
            "851\n",
            "853\n",
            "855\n",
            "857\n",
            "859\n",
            "861\n",
            "863\n",
            "865\n",
            "867\n",
            "869\n",
            "871\n",
            "873\n",
            "875\n",
            "877\n",
            "879\n",
            "881\n",
            "883\n",
            "885\n",
            "887\n",
            "889\n",
            "891\n",
            "893\n",
            "895\n",
            "897\n",
            "899\n",
            "901\n",
            "903\n",
            "905\n",
            "907\n",
            "909\n",
            "911\n",
            "913\n",
            "915\n",
            "917\n",
            "919\n",
            "921\n",
            "923\n",
            "925\n",
            "927\n",
            "929\n",
            "931\n",
            "933\n",
            "935\n",
            "937\n",
            "939\n",
            "941\n",
            "943\n",
            "945\n",
            "947\n",
            "949\n",
            "951\n",
            "953\n",
            "955\n",
            "957\n",
            "959\n",
            "961\n",
            "963\n",
            "965\n",
            "967\n",
            "969\n",
            "971\n",
            "973\n",
            "975\n",
            "977\n",
            "979\n",
            "981\n",
            "983\n",
            "985\n",
            "987\n",
            "989\n",
            "991\n",
            "993\n",
            "995\n",
            "997\n",
            "999\n"
          ]
        }
      ]
    },
    {
      "cell_type": "code",
      "source": [
        ""
      ],
      "metadata": {
        "id": "jCWGBOlmb9Dx"
      },
      "execution_count": null,
      "outputs": []
    },
    {
      "cell_type": "code",
      "metadata": {
        "id": "ge6Wx1r_qEMk"
      },
      "source": [
        "# Q. write a function or just use some if-else statement to figure how many prime numbers are there between 100 and 200"
      ],
      "execution_count": 54,
      "outputs": []
    },
    {
      "cell_type": "code",
      "source": [
        "lower = 100\n",
        "upper = 200\n",
        "\n",
        "print(\"Prime numbers between\", lower, \"and\", upper, \"are:\")\n",
        "\n",
        "for num in range(lower, upper + 1):\n",
        "   # all prime numbers are greater than 1\n",
        "   if num > 1:\n",
        "       for i in range(2, num):\n",
        "           if (num % i) == 0:\n",
        "               break\n",
        "       else:\n",
        "           print(num)"
      ],
      "metadata": {
        "colab": {
          "base_uri": "https://localhost:8080/"
        },
        "id": "SuKk0UDrdU3B",
        "outputId": "db5510fc-7d20-4d4b-c730-0eef040e235c"
      },
      "execution_count": 59,
      "outputs": [
        {
          "output_type": "stream",
          "name": "stdout",
          "text": [
            "Prime numbers between 100 and 200 are:\n",
            "101\n",
            "103\n",
            "107\n",
            "109\n",
            "113\n",
            "127\n",
            "131\n",
            "137\n",
            "139\n",
            "149\n",
            "151\n",
            "157\n",
            "163\n",
            "167\n",
            "173\n",
            "179\n",
            "181\n",
            "191\n",
            "193\n",
            "197\n",
            "199\n"
          ]
        }
      ]
    },
    {
      "cell_type": "markdown",
      "source": [
        "### END OF THIS LAB1"
      ],
      "metadata": {
        "id": "noWVEF8P08vt"
      }
    }
  ]
}